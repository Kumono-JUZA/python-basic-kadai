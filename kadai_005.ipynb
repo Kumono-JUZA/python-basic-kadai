{
 "cells": [
  {
   "cell_type": "code",
   "execution_count": 16,
   "id": "be4eaec9",
   "metadata": {},
   "outputs": [
    {
     "name": "stdout",
     "output_type": "stream",
     "text": [
      "75.0cm²\n"
     ]
    }
   ],
   "source": [
    "Top_side=10\n",
    "Bottom_side=20\n",
    "Height=5\n",
    "\n",
    "#公式\n",
    "area=(Top_side + Bottom_side) * Height / 2\n",
    "print(f\"{area}cm²\")"
   ]
  },
  {
   "cell_type": "code",
   "execution_count": null,
   "id": "4c8a3a71",
   "metadata": {},
   "outputs": [],
   "source": []
  }
 ],
 "metadata": {
  "kernelspec": {
   "display_name": "Python 3 (ipykernel)",
   "language": "python",
   "name": "python3"
  },
  "language_info": {
   "codemirror_mode": {
    "name": "ipython",
    "version": 3
   },
   "file_extension": ".py",
   "mimetype": "text/x-python",
   "name": "python",
   "nbconvert_exporter": "python",
   "pygments_lexer": "ipython3",
   "version": "3.13.3"
  }
 },
 "nbformat": 4,
 "nbformat_minor": 5
}
